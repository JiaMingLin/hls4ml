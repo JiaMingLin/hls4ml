{
 "cells": [
  {
   "cell_type": "code",
   "execution_count": 1,
   "metadata": {},
   "outputs": [
    {
     "name": "stderr",
     "output_type": "stream",
     "text": [
      "2024-11-14 18:57:51.567889: I tensorflow/core/util/port.cc:113] oneDNN custom operations are on. You may see slightly different numerical results due to floating-point round-off errors from different computation orders. To turn them off, set the environment variable `TF_ENABLE_ONEDNN_OPTS=0`.\n",
      "2024-11-14 18:57:51.589531: E external/local_xla/xla/stream_executor/cuda/cuda_dnn.cc:9261] Unable to register cuDNN factory: Attempting to register factory for plugin cuDNN when one has already been registered\n",
      "2024-11-14 18:57:51.589553: E external/local_xla/xla/stream_executor/cuda/cuda_fft.cc:607] Unable to register cuFFT factory: Attempting to register factory for plugin cuFFT when one has already been registered\n",
      "2024-11-14 18:57:51.590362: E external/local_xla/xla/stream_executor/cuda/cuda_blas.cc:1515] Unable to register cuBLAS factory: Attempting to register factory for plugin cuBLAS when one has already been registered\n",
      "2024-11-14 18:57:51.594382: I tensorflow/core/platform/cpu_feature_guard.cc:182] This TensorFlow binary is optimized to use available CPU instructions in performance-critical operations.\n",
      "To enable the following instructions: AVX2 AVX512F AVX512_VNNI AVX512_BF16 FMA, in other operations, rebuild TensorFlow with the appropriate compiler flags.\n",
      "2024-11-14 18:57:51.990128: W tensorflow/compiler/tf2tensorrt/utils/py_utils.cc:38] TF-TRT Warning: Could not find TensorRT\n",
      "2024-11-14 18:57:52.603285: I external/local_xla/xla/stream_executor/cuda/cuda_executor.cc:901] successful NUMA node read from SysFS had negative value (-1), but there must be at least one NUMA node, so returning NUMA node zero. See more at https://github.com/torvalds/linux/blob/v6.0/Documentation/ABI/testing/sysfs-bus-pci#L344-L355\n",
      "2024-11-14 18:57:52.603434: I external/local_xla/xla/stream_executor/cuda/cuda_executor.cc:901] successful NUMA node read from SysFS had negative value (-1), but there must be at least one NUMA node, so returning NUMA node zero. See more at https://github.com/torvalds/linux/blob/v6.0/Documentation/ABI/testing/sysfs-bus-pci#L344-L355\n",
      "2024-11-14 18:57:52.618110: W tensorflow/core/common_runtime/gpu/gpu_device.cc:2256] Cannot dlopen some GPU libraries. Please make sure the missing libraries mentioned above are installed properly if you would like to use GPU. Follow the guide at https://www.tensorflow.org/install/gpu for how to download and setup the required libraries for your platform.\n",
      "Skipping registering GPU devices...\n"
     ]
    },
    {
     "name": "stdout",
     "output_type": "stream",
     "text": [
      "Model: \"sequential\"\n",
      "_________________________________________________________________\n",
      " Layer (type)                Output Shape              Param #   \n",
      "=================================================================\n",
      " dense1 (QDense)             (None, 5)                 30        \n",
      "                                                                 \n",
      " act1 (QActivation)          (None, 5)                 0         \n",
      "                                                                 \n",
      " dense2 (QDense)             (None, 5)                 30        \n",
      "                                                                 \n",
      " act2 (QActivation)          (None, 5)                 0         \n",
      "                                                                 \n",
      "=================================================================\n",
      "Total params: 60 (240.00 Byte)\n",
      "Trainable params: 60 (240.00 Byte)\n",
      "Non-trainable params: 0 (0.00 Byte)\n",
      "_________________________________________________________________\n"
     ]
    }
   ],
   "source": [
    "import numpy as np\n",
    "from qkeras import QDense, QActivation\n",
    "from qkeras.quantizers import binary\n",
    "from tensorflow.keras.models import Sequential\n",
    "\n",
    "model = Sequential()\n",
    "\n",
    "model.add(QDense(5, input_shape=(5,),\n",
    "                 kernel_quantizer=binary(),\n",
    "                 name='dense1'))\n",
    "\n",
    "model.add(QActivation('binary', name='act1'))\n",
    "\n",
    "model.add(QDense(5,\n",
    "                 kernel_quantizer=binary(),\n",
    "                 name='dense2'))\n",
    "\n",
    "model.add(QActivation('binary', name='act2'))\n",
    "\n",
    "model.summary()\n"
   ]
  },
  {
   "cell_type": "code",
   "execution_count": 2,
   "metadata": {},
   "outputs": [
    {
     "name": "stdout",
     "output_type": "stream",
     "text": [
      "[[0 1 1 0 1]\n",
      " [0 1 1 1 1]\n",
      " [1 0 0 1 0]\n",
      " [0 1 1 0 0]\n",
      " [0 1 1 0 0]]\n",
      "[[0 1 1 0 0]\n",
      " [1 0 1 1 1]\n",
      " [0 0 1 1 0]\n",
      " [0 0 0 1 1]\n",
      " [0 1 0 0 1]]\n"
     ]
    }
   ],
   "source": [
    "class Quantizer:\n",
    "    \"\"\"\n",
    "    Base class for representing quantizers in hls4ml.\n",
    "\n",
    "    Subclasses of ``Quantizer`` are expected to wrap the quantizers of upstream tools (e.g., QKeras).\n",
    "\n",
    "    Args:\n",
    "        bits (int): Total number of bits used by the quantizer.\n",
    "        hls_type (NamedType): The hls4ml type used by the quantizer.\n",
    "    \"\"\"\n",
    "\n",
    "    def __init__(self, bits, hls_type):\n",
    "        self.bits = bits\n",
    "        self.hls_type = hls_type\n",
    "\n",
    "    def __call__(self, data):\n",
    "        raise NotImplementedError\n",
    "\n",
    "\n",
    "class BinaryQuantizer(Quantizer):\n",
    "    \"\"\"Quantizer that quantizes to 0 and 1 (``bits=1``) or -1 and 1 (``bits==2``).\n",
    "\n",
    "    Args:\n",
    "        bits (int, optional): Number of bits used by the quantizer. Defaults to 2.\n",
    "\n",
    "    Raises:\n",
    "        Exception: Raised if ``bits>2``\n",
    "    \"\"\"\n",
    "\n",
    "    def __init__(self, bits=2):\n",
    "\n",
    "        super().__init__(bits, hls_type=None)\n",
    "\n",
    "    def __call__(self, data):\n",
    "        zeros = np.zeros_like(data)\n",
    "        ones = np.ones_like(data)\n",
    "        quant_data = data\n",
    "        if self.bits == 1:\n",
    "            quant_data = np.where(data > 0, ones, zeros).astype('int')\n",
    "        if self.bits == 2:\n",
    "            quant_data = np.where(data > 0, ones, -ones)\n",
    "        return quant_data\n",
    "\n",
    "w2_data = model.get_layer('dense1').get_weights()\n",
    "w2_quantizer = BinaryQuantizer(bits=1)\n",
    "w2_quantized = w2_quantizer(w2_data[0])\n",
    "print(w2_quantized)\n",
    "print(np.array([0, 1, 1, 0, 0, 1, 0, 1, 1, 1, 0, 0, 1, 1, 0, 0, 0, 0, 1, 1, 0, 1, 0, 0, 1]).reshape(5,5))\n"
   ]
  },
  {
   "cell_type": "code",
   "execution_count": 4,
   "metadata": {},
   "outputs": [
    {
     "name": "stdout",
     "output_type": "stream",
     "text": [
      "Interpreting Sequential\n",
      "Topology:\n",
      "Layer name: dense1_input, layer type: InputLayer, input shapes: [[None, 5]], output shape: [None, 5]\n",
      "Layer name: dense1, layer type: QDense, input shapes: [[None, 5]], output shape: [None, 5]\n",
      "Layer name: act1, layer type: Activation, input shapes: [[None, 5]], output shape: [None, 5]\n",
      "Layer name: dense2, layer type: QDense, input shapes: [[None, 5]], output shape: [None, 5]\n",
      "Layer name: act2, layer type: Activation, input shapes: [[None, 5]], output shape: [None, 5]\n"
     ]
    }
   ],
   "source": [
    "from hls4ml.converters import convert_from_keras_model\n",
    "from hls4ml.utils.config import config_from_keras_model\n",
    "\n",
    "# 設定輸入形狀\n",
    "input_shape = (None, 5)  # MNIST 數據集的形狀\n",
    "\n",
    "# 從模型生成配置\n",
    "config = config_from_keras_model(model, backend='Vitis')\n",
    "\n",
    "# 設定輸出目錄\n",
    "output_dir = 'hls4ml_bnn_prj_keras'\n",
    "\n",
    "# 轉換為 HLS 模型\n",
    "hls_model_init = convert_from_keras_model(\n",
    "    model,\n",
    "    output_dir=output_dir,\n",
    "    hls_config=config,\n",
    "    backend='Vitis'\n",
    ")"
   ]
  },
  {
   "cell_type": "code",
   "execution_count": 5,
   "metadata": {},
   "outputs": [
    {
     "name": "stdout",
     "output_type": "stream",
     "text": [
      "Writing HLS project\n",
      "hls4ml_bnn_prj_keras\n",
      "hls4ml_config.yml\n",
      "WARNING:tensorflow:Compiled the loaded model, but the compiled metrics have yet to be built. `model.compile_metrics` will be empty until you train or evaluate the model.\n",
      "Done\n"
     ]
    },
    {
     "name": "stderr",
     "output_type": "stream",
     "text": [
      "/home/robin/miniconda3/envs/keras/lib/python3.9/site-packages/keras/src/engine/training.py:3103: UserWarning: You are saving your model as an HDF5 file via `model.save()`. This file format is considered legacy. We recommend using instead the native Keras format, e.g. `model.save('my_model.keras')`.\n",
      "  saving_api.save_model(\n"
     ]
    }
   ],
   "source": [
    "hls_model_init.compile()"
   ]
  }
 ],
 "metadata": {
  "kernelspec": {
   "display_name": "keras",
   "language": "python",
   "name": "python3"
  },
  "language_info": {
   "codemirror_mode": {
    "name": "ipython",
    "version": 3
   },
   "file_extension": ".py",
   "mimetype": "text/x-python",
   "name": "python",
   "nbconvert_exporter": "python",
   "pygments_lexer": "ipython3",
   "version": "3.9.20"
  }
 },
 "nbformat": 4,
 "nbformat_minor": 2
}
